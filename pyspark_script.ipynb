{
 "cells": [
  {
   "cell_type": "code",
   "execution_count": null,
   "id": "483bf38f",
   "metadata": {},
   "outputs": [],
   "source": [
    "from pyspark.sql import SparkSession"
   ]
  },
  {
   "cell_type": "markdown",
   "id": "a63485f3",
   "metadata": {},
   "source": [
    "Stream to S3 Bucket"
   ]
  },
  {
   "cell_type": "code",
   "execution_count": null,
   "id": "0129cf28",
   "metadata": {},
   "outputs": [],
   "source": [
    "%%bash\n",
    "wget -O - https://redfin-public-data.s3.us-west-2.amazonaws.com/redfin_market_tracker/city_market_tracker.tsv000.gz | aws s3 cp - s3://bucket/input/city_market_tracker.tsv000.gz"
   ]
  },
  {
   "cell_type": "markdown",
   "id": "e363ddbf",
   "metadata": {},
   "source": [
    "Create Spark Session"
   ]
  },
  {
   "cell_type": "code",
   "execution_count": null,
   "id": "c3f60bda",
   "metadata": {},
   "outputs": [],
   "source": [
    "# Replace with your EMR master node's DNS/IP\n",
    "\n",
    "print(\"Creating spark session\")\n",
    "spark = SparkSession.builder \\\n",
    "    .appName(\"EMR Spark Session Test\").getOrCreate()\n",
    "#    .config(\"spark.hadoop.fs.s3a.impl\",\"org.apache.hadoop.fs.s3a.S3AFileSystem\") \\\n",
    "#    .config(\"spark.hadoop.fs.s3a.access.key\", \"<YOUR_ACCESS_KEY>\") \\\n",
    "#    .config(\"spark.hadoop.fs.s3a.secret.key\", \"<YOUR_SECRET_KEY>\") \\\n",
    "#    .getOrCreate()"
   ]
  },
  {
   "cell_type": "code",
   "execution_count": null,
   "id": "4e4ed7a9",
   "metadata": {},
   "outputs": [],
   "source": [
    "redfin_data = spark.read.csv(\"https://<s3-bucket>.amazonaws.com/input/city_market_tracker.tsv000.gz\", header=True, inferSchema=True, sep= \"\\t\")\n",
    "\n",
    "spark.read.t"
   ]
  }
 ],
 "metadata": {
  "kernelspec": {
   "display_name": "emr_env",
   "language": "python",
   "name": "python3"
  },
  "language_info": {
   "codemirror_mode": {
    "name": "ipython",
    "version": 3
   },
   "file_extension": ".py",
   "mimetype": "text/x-python",
   "name": "python",
   "nbconvert_exporter": "python",
   "pygments_lexer": "ipython3",
   "version": "3.12.0"
  }
 },
 "nbformat": 4,
 "nbformat_minor": 5
}
