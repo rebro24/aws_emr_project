{
 "cells": [
  {
   "cell_type": "code",
   "execution_count": 60,
   "id": "821fdb4e",
   "metadata": {},
   "outputs": [
    {
     "data": {
      "application/vnd.jupyter.widget-view+json": {
       "model_id": "",
       "version_major": 2,
       "version_minor": 0
      },
      "text/plain": [
       "FloatProgress(value=0.0, bar_style='info', description='Progress:', layout=Layout(height='25px', width='50%'),…"
      ]
     },
     "metadata": {},
     "output_type": "display_data"
    }
   ],
   "source": [
    "from pyspark.sql import SparkSession\n",
    "from pyspark.sql.functions import avg, desc, col, to_date, year"
   ]
  },
  {
   "cell_type": "code",
   "execution_count": 73,
   "id": "8e57a3ee",
   "metadata": {
    "scrolled": true
   },
   "outputs": [
    {
     "data": {
      "application/vnd.jupyter.widget-view+json": {
       "model_id": "",
       "version_major": 2,
       "version_minor": 0
      },
      "text/plain": [
       "FloatProgress(value=0.0, bar_style='info', description='Progress:', layout=Layout(height='25px', width='50%'),…"
      ]
     },
     "metadata": {},
     "output_type": "display_data"
    },
    {
     "name": "stdout",
     "output_type": "stream",
     "text": [
      "Creating spark session"
     ]
    }
   ],
   "source": [
    "print(\"Creating spark session\")\n",
    "spark = SparkSession.builder.appName(\"RedfinCityMarketAnalysis\").getOrCreate()\n",
    "\n",
    "#Revert to legacy time parser policy due to date conversion errors\n",
    "spark.conf.set(\"spark.sql.legacy.timeParserPolicy\", \"LEGACY\")"
   ]
  },
  {
   "cell_type": "code",
   "execution_count": null,
   "id": "ad2e9c1c",
   "metadata": {},
   "outputs": [
    {
     "data": {
      "application/vnd.jupyter.widget-view+json": {
       "model_id": "",
       "version_major": 2,
       "version_minor": 0
      },
      "text/plain": [
       "FloatProgress(value=0.0, bar_style='info', description='Progress:', layout=Layout(height='25px', width='50%'),…"
      ]
     },
     "metadata": {},
     "output_type": "display_data"
    }
   ],
   "source": [
    "#Load data into dataframe\n",
    "s3_data = \"s3://<s3-bucket>/input/city_market_tracker.tsv000.gz\"\n",
    "rf_df = spark.read.format(\"csv\").option(\"header\", True).option(\"sep\", \"\\t\").load(s3_data)"
   ]
  },
  {
   "cell_type": "code",
   "execution_count": 24,
   "id": "0ae069e5",
   "metadata": {},
   "outputs": [
    {
     "data": {
      "application/vnd.jupyter.widget-view+json": {
       "model_id": "",
       "version_major": 2,
       "version_minor": 0
      },
      "text/plain": [
       "FloatProgress(value=0.0, bar_style='info', description='Progress:', layout=Layout(height='25px', width='50%'),…"
      ]
     },
     "metadata": {},
     "output_type": "display_data"
    },
    {
     "name": "stdout",
     "output_type": "stream",
     "text": [
      "+------------+----------+---------------+-----------+--------------+--------+----------------------+--------------------+-----------------+--------------+----------+--------------------+----------------+-----------------+---------------------+---------------------+-----------------+---------------------+---------------------+-------------+---------------+---------------+----------------+--------------------+--------------------+----------+--------------+--------------+-------------+-----------------+-----------------+------------+----------------+----------------+---------+--------------+-------------+----------------+--------------------+--------------------+----------+--------------+--------------+----------------+--------------------+--------------------+---------------+-------------------+-------------------+-------------+---------------+---------------+-----------------------+---------------------------+---------------------------+-------------------+------------------------------+--------------------+\n",
      "|PERIOD_BEGIN|PERIOD_END|PERIOD_DURATION|REGION_TYPE|REGION_TYPE_ID|TABLE_ID|IS_SEASONALLY_ADJUSTED|              REGION|             CITY|         STATE|STATE_CODE|       PROPERTY_TYPE|PROPERTY_TYPE_ID|MEDIAN_SALE_PRICE|MEDIAN_SALE_PRICE_MOM|MEDIAN_SALE_PRICE_YOY|MEDIAN_LIST_PRICE|MEDIAN_LIST_PRICE_MOM|MEDIAN_LIST_PRICE_YOY|  MEDIAN_PPSF|MEDIAN_PPSF_MOM|MEDIAN_PPSF_YOY|MEDIAN_LIST_PPSF|MEDIAN_LIST_PPSF_MOM|MEDIAN_LIST_PPSF_YOY|HOMES_SOLD|HOMES_SOLD_MOM|HOMES_SOLD_YOY|PENDING_SALES|PENDING_SALES_MOM|PENDING_SALES_YOY|NEW_LISTINGS|NEW_LISTINGS_MOM|NEW_LISTINGS_YOY|INVENTORY| INVENTORY_MOM|INVENTORY_YOY|MONTHS_OF_SUPPLY|MONTHS_OF_SUPPLY_MOM|MONTHS_OF_SUPPLY_YOY|MEDIAN_DOM|MEDIAN_DOM_MOM|MEDIAN_DOM_YOY|AVG_SALE_TO_LIST|AVG_SALE_TO_LIST_MOM|AVG_SALE_TO_LIST_YOY|SOLD_ABOVE_LIST|SOLD_ABOVE_LIST_MOM|SOLD_ABOVE_LIST_YOY|  PRICE_DROPS|PRICE_DROPS_MOM|PRICE_DROPS_YOY|OFF_MARKET_IN_TWO_WEEKS|OFF_MARKET_IN_TWO_WEEKS_MOM|OFF_MARKET_IN_TWO_WEEKS_YOY|PARENT_METRO_REGION|PARENT_METRO_REGION_METRO_CODE|        LAST_UPDATED|\n",
      "+------------+----------+---------------+-----------+--------------+--------+----------------------+--------------------+-----------------+--------------+----------+--------------------+----------------+-----------------+---------------------+---------------------+-----------------+---------------------+---------------------+-------------+---------------+---------------+----------------+--------------------+--------------------+----------+--------------+--------------+-------------+-----------------+-----------------+------------+----------------+----------------+---------+--------------+-------------+----------------+--------------------+--------------------+----------+--------------+--------------+----------------+--------------------+--------------------+---------------+-------------------+-------------------+-------------+---------------+---------------+-----------------------+---------------------------+---------------------------+-------------------+------------------------------+--------------------+\n",
      "|  2023-10-01|2023-10-31|             30|      place|             6|    9193|                 false|      Knightdale, NC|       Knightdale|North Carolina|        NC|     All Residential|              -1|           483000|         0.1465875371|         0.1764634243|         409938.5|        0.01357028063|        -0.1590142579|196.011004127|  0.01533608744|-0.009525729965|   189.492553778|      -0.00377826938|       0.05560072947|        25|-0.03846153846| -0.2647058824|           22|                0|    -0.3888888889|          38|    0.5833333333|           1.375|       66|  0.1785714286|-0.2142857143|             2.6|                 0.4|                 0.1|        44|            11|             8|    0.9971859687|     -0.001326571437|      0.001020535743|           0.24|     -0.06769230769|     -0.02470588235| 0.4696969697|  0.05898268398|  0.05303030303|           0.2727272727|              -0.1363636364|              0.02272727273|        Raleigh, NC|                         39580|2025-06-16 14:45:...|\n",
      "|  2015-04-01|2015-04-30|             30|      place|             6|    2228|                 false|         Boulder, MT|          Boulder|       Montana|        MT|     All Residential|              -1|           139900|                   NA|                   NA|           114900|                   NA|                   NA| 88.320707071|             NA|             NA|    74.414715719|                  NA|                  NA|         3|            NA|            NA|            3|               NA|               NA|           3|              NA|              NA|       15|            NA|           NA|               5|                  NA|                  NA|       423|            NA|            NA|              NA|                  NA|                  NA|              0|                 NA|                 NA|           NA|             NA|             NA|                      0|                         NA|                         NA|         Helena, MT|                         25740|2025-06-16 14:45:...|\n",
      "|  2019-04-01|2019-04-30|             30|      place|             6|   20863|                 false|         Willard, OH|          Willard|          Ohio|        OH|         Condo/Co-op|               3|            86000|                   NA|                   NA|               NA|                   NA|                   NA| 78.181818182|             NA|             NA|              NA|                  NA|                  NA|         1|            NA|            NA|            1|               NA|               NA|          NA|              NA|              NA|        1|            NA|           NA|               1|                  NA|                  NA|        58|            NA|            NA|    0.9828571429|                  NA|                  NA|              0|                 NA|                 NA|           NA|             NA|             NA|                      0|                         NA|                         NA|        Norwalk, OH|                         35940|2025-06-16 14:45:...|\n",
      "|  2019-02-01|2019-02-28|             30|      place|             6|   36263|                 false|El Paso de Robles...|El Paso de Robles|    California|        CA|Single Family Res...|               6|           504750|       -0.01990291262|        0.03115423902|           535333|         0.1222914046|         0.1515013982|281.794782458| 0.003575614762|  0.03762516161|   289.805659734|     -0.008773916288|       0.03762170041|        26|-0.07142857143|-0.07142857143|           30|    -0.3181818182|    -0.2857142857|          34|   -0.1052631579|   -0.2608695652|       90| 0.07142857143|        0.125|             3.5|                 0.5|                 0.6|        44|           -31|            24|    0.9747714447|     0.0004411473645|      -0.01671821166|  0.03846153846|     0.002747252747|      -0.1758241758| 0.1555555556|  -0.1182539683| -0.01944444444|                    0.3|              0.09545454545|              -0.2476190476|San Luis Obispo, CA|                         42020|2025-06-16 14:45:...|\n",
      "|  2016-08-01|2016-08-31|             30|      place|             6|   19756|                 false|         Warwick, NY|          Warwick|      New York|        NY|Single Family Res...|               6|           350000|         0.2280701754|       -0.03780068729|           279900|                0.244|         0.3334921391|136.698808849|  -0.2408487829|  -0.2605289131|   147.704485488|       -0.2392634415|        -0.101507482|        13|           0.3| 0.08333333333|            8|    -0.2727272727|    -0.2727272727|           2|            -0.6|   -0.6666666667|       47| -0.1607142857|-0.1896551724|             3.6|                  -2|                -1.2|       152|            -6|             7|    0.9586936118|       -0.1266386343|      -0.01644715906|   0.2307692308|      -0.1692307692|     -0.01923076923| 0.4042553191|-0.006458966565| -0.06126192223|                  0.125|                      0.125|                      0.125|   Poughkeepsie, NY|                         39100|2025-06-16 14:45:...|\n",
      "|  2016-06-01|2016-06-30|             30|      place|             6|   18253|                 false|          Waxhaw, NC|           Waxhaw|North Carolina|        NC|     All Residential|              -1|           381780|        0.07091164095|         0.1261946903|           382400|       -0.06021135414|        0.09257142857|116.739143819|  0.03646679371|  0.06696516321|   115.725349424|       0.01406789241|     -0.006024453308|        80|  0.4285714286|  0.1428571429|           NA|               NA|               NA|          88|    -0.145631068|    0.2753623188|      306|-0.00325732899| 0.1208791209|             3.8|                -1.7|                -0.1|        83|           -41|            -3|    0.9881398489|      0.004933739558|      0.008495065677|           0.15|     -0.01071428571|               0.05| 0.1633986928|  0.04939217815| -0.01608848668|           0.3896103896|             -0.01298701299|               0.1753246753|      Charlotte, NC|                         16740|2025-06-16 14:45:...|\n",
      "|  2021-12-01|2021-12-31|             30|      place|             6|   38198|                 false|       Champlain, NY|        Champlain|      New York|        NY|     All Residential|              -1|           145000|        -0.2076502732|                   NA|           149900|                   NA|                   NA| 87.034813926|   -0.149060874|             NA|    72.625968992|                  NA|                  NA|         1|          -0.5|            NA|            1|             -0.5|               NA|           1|              NA|              NA|        2|             0|           NA|               2|                   1|                  NA|        73|          -119|            NA|    0.9360877986|      -0.05406792833|                  NA|              0|               -0.5|                 NA|           NA|             NA|             NA|                      0|                          0|                         NA|    Plattsburgh, NY|                         38460|2025-06-16 14:45:...|\n",
      "|  2015-08-01|2015-08-31|             30|      place|             6|   12181|                 false|            Mars, PA|             Mars|  Pennsylvania|        PA|Single Family Res...|               6|           679990|          1.527843866|          1.775469388|           255000|                   NA|        -0.2497793469|156.715833141|   0.1505725111|  -0.2068259874|    154.29403753|                  NA|       0.05984042331|         3|          -0.4|             2|           NA|               NA|               NA|           3|              NA|               0|       NA|            NA|           NA|               5|                 1.8|                  -5|        73|            -6|             9|    0.9819969299|      0.004314431823|     -0.001938813066|              0|               -0.2|                  0| 0.2666666667|  -0.1708333333|  0.06666666667|                     NA|                         NA|                         NA|     Pittsburgh, PA|                         38300|2025-06-16 14:45:...|\n",
      "|  2013-11-01|2013-11-30|             30|      place|             6|   23691|                 false|   Lake Isabella, CA|    Lake Isabella|    California|        CA|Single Family Res...|               6|            95000|                  0.9|        -0.2083333333|            66900|                   NA|                   NA| 70.579494799|   0.4906389302|  0.06692669638|    51.461538462|                  NA|                  NA|         1|             0|             0|            1|                0|                0|           1|              NA|              NA|        1|            NA|-0.8571428571|               1|                  NA|                  -6|        48|            26|            17|     1.001053741|       0.09196283169|       0.04105374078|              1|                  1|                  1|           NA|             NA|             NA|                      0|                          0|                          0|    Bakersfield, CA|                         12540|2025-06-16 14:45:...|\n",
      "|  2018-02-01|2018-02-28|             30|      place|             6|   35017|                 false|        Tetherow, OR|         Tetherow|        Oregon|        OR|     All Residential|              -1|          1375000|         0.3349488642|         0.2457531144|        1499578.5|        -0.2290084833|         0.8628535758|330.696020322| -0.05010144251|  0.01691106324|   363.431061109|       -0.2486600017|         0.164049299|         7|          0.75|          0.75|            3|    -0.5714285714|                0|           4|            -0.2|            -0.5|       19| 0.05555555556|        -0.24|             2.7|                -1.8|                -3.6|        48|          -186|          -236|    0.9967115375|       0.01080120708|       0.00667174274|   0.1428571429|      -0.1071428571|       0.1428571429|0.05263157895|  -0.1140350877| -0.02736842105|           0.3333333333|              0.04761904762|              -0.3333333333|           Bend, OR|                         13460|2025-06-16 14:45:...|\n",
      "+------------+----------+---------------+-----------+--------------+--------+----------------------+--------------------+-----------------+--------------+----------+--------------------+----------------+-----------------+---------------------+---------------------+-----------------+---------------------+---------------------+-------------+---------------+---------------+----------------+--------------------+--------------------+----------+--------------+--------------+-------------+-----------------+-----------------+------------+----------------+----------------+---------+--------------+-------------+----------------+--------------------+--------------------+----------+--------------+--------------+----------------+--------------------+--------------------+---------------+-------------------+-------------------+-------------+---------------+---------------+-----------------------+---------------------------+---------------------------+-------------------+------------------------------+--------------------+\n",
      "only showing top 10 rows"
     ]
    }
   ],
   "source": [
    "#Check Data\n",
    "rf_df.show(10)"
   ]
  },
  {
   "cell_type": "code",
   "execution_count": 55,
   "id": "0293fc7f",
   "metadata": {
    "scrolled": false
   },
   "outputs": [
    {
     "data": {
      "application/vnd.jupyter.widget-view+json": {
       "model_id": "",
       "version_major": 2,
       "version_minor": 0
      },
      "text/plain": [
       "FloatProgress(value=0.0, bar_style='info', description='Progress:', layout=Layout(height='25px', width='50%'),…"
      ]
     },
     "metadata": {},
     "output_type": "display_data"
    },
    {
     "name": "stdout",
     "output_type": "stream",
     "text": [
      "root\n",
      " |-- PERIOD_BEGIN: string (nullable = true)\n",
      " |-- PERIOD_END: string (nullable = true)\n",
      " |-- PERIOD_DURATION: string (nullable = true)\n",
      " |-- REGION_TYPE: string (nullable = true)\n",
      " |-- REGION_TYPE_ID: string (nullable = true)\n",
      " |-- TABLE_ID: string (nullable = true)\n",
      " |-- IS_SEASONALLY_ADJUSTED: string (nullable = true)\n",
      " |-- REGION: string (nullable = true)\n",
      " |-- CITY: string (nullable = true)\n",
      " |-- STATE: string (nullable = true)\n",
      " |-- STATE_CODE: string (nullable = true)\n",
      " |-- PROPERTY_TYPE: string (nullable = true)\n",
      " |-- PROPERTY_TYPE_ID: string (nullable = true)\n",
      " |-- MEDIAN_SALE_PRICE: string (nullable = true)\n",
      " |-- MEDIAN_SALE_PRICE_MOM: string (nullable = true)\n",
      " |-- MEDIAN_SALE_PRICE_YOY: string (nullable = true)\n",
      " |-- MEDIAN_LIST_PRICE: string (nullable = true)\n",
      " |-- MEDIAN_LIST_PRICE_MOM: string (nullable = true)\n",
      " |-- MEDIAN_LIST_PRICE_YOY: string (nullable = true)\n",
      " |-- MEDIAN_PPSF: string (nullable = true)\n",
      " |-- MEDIAN_PPSF_MOM: string (nullable = true)\n",
      " |-- MEDIAN_PPSF_YOY: string (nullable = true)\n",
      " |-- MEDIAN_LIST_PPSF: string (nullable = true)\n",
      " |-- MEDIAN_LIST_PPSF_MOM: string (nullable = true)\n",
      " |-- MEDIAN_LIST_PPSF_YOY: string (nullable = true)\n",
      " |-- HOMES_SOLD: string (nullable = true)\n",
      " |-- HOMES_SOLD_MOM: string (nullable = true)\n",
      " |-- HOMES_SOLD_YOY: string (nullable = true)\n",
      " |-- PENDING_SALES: string (nullable = true)\n",
      " |-- PENDING_SALES_MOM: string (nullable = true)\n",
      " |-- PENDING_SALES_YOY: string (nullable = true)\n",
      " |-- NEW_LISTINGS: string (nullable = true)\n",
      " |-- NEW_LISTINGS_MOM: string (nullable = true)\n",
      " |-- NEW_LISTINGS_YOY: string (nullable = true)\n",
      " |-- INVENTORY: string (nullable = true)\n",
      " |-- INVENTORY_MOM: string (nullable = true)\n",
      " |-- INVENTORY_YOY: string (nullable = true)\n",
      " |-- MONTHS_OF_SUPPLY: string (nullable = true)\n",
      " |-- MONTHS_OF_SUPPLY_MOM: string (nullable = true)\n",
      " |-- MONTHS_OF_SUPPLY_YOY: string (nullable = true)\n",
      " |-- MEDIAN_DOM: string (nullable = true)\n",
      " |-- MEDIAN_DOM_MOM: string (nullable = true)\n",
      " |-- MEDIAN_DOM_YOY: string (nullable = true)\n",
      " |-- AVG_SALE_TO_LIST: string (nullable = true)\n",
      " |-- AVG_SALE_TO_LIST_MOM: string (nullable = true)\n",
      " |-- AVG_SALE_TO_LIST_YOY: string (nullable = true)\n",
      " |-- SOLD_ABOVE_LIST: string (nullable = true)\n",
      " |-- SOLD_ABOVE_LIST_MOM: string (nullable = true)\n",
      " |-- SOLD_ABOVE_LIST_YOY: string (nullable = true)\n",
      " |-- PRICE_DROPS: string (nullable = true)\n",
      " |-- PRICE_DROPS_MOM: string (nullable = true)\n",
      " |-- PRICE_DROPS_YOY: string (nullable = true)\n",
      " |-- OFF_MARKET_IN_TWO_WEEKS: string (nullable = true)\n",
      " |-- OFF_MARKET_IN_TWO_WEEKS_MOM: string (nullable = true)\n",
      " |-- OFF_MARKET_IN_TWO_WEEKS_YOY: string (nullable = true)\n",
      " |-- PARENT_METRO_REGION: string (nullable = true)\n",
      " |-- PARENT_METRO_REGION_METRO_CODE: string (nullable = true)\n",
      " |-- LAST_UPDATED: string (nullable = true)"
     ]
    }
   ],
   "source": [
    "#Show dataframe schema\n",
    "rf_df.printSchema()"
   ]
  },
  {
   "cell_type": "code",
   "execution_count": 77,
   "id": "f808f1b1",
   "metadata": {
    "scrolled": true
   },
   "outputs": [
    {
     "data": {
      "application/vnd.jupyter.widget-view+json": {
       "model_id": "",
       "version_major": 2,
       "version_minor": 0
      },
      "text/plain": [
       "FloatProgress(value=0.0, bar_style='info', description='Progress:', layout=Layout(height='25px', width='50%'),…"
      ]
     },
     "metadata": {},
     "output_type": "display_data"
    }
   ],
   "source": [
    "#Select desired columns. Add Year field to dataframe\n",
    "rf_df = rf_df[\"state_code\",\"state\",\"region\",\"city\",\"property_type\",\"median_sale_price\",\"median_list_price\",\"period_end\"].withColumn(\"parsed_end\", to_date(\"period_end\", \"yyyy-MM-dd\"))\n",
    "rf_df = rf_df.withColumn(\"year\", year(\"parsed_end\"))"
   ]
  },
  {
   "cell_type": "code",
   "execution_count": 82,
   "id": "adf25603",
   "metadata": {
    "scrolled": true
   },
   "outputs": [
    {
     "data": {
      "application/vnd.jupyter.widget-view+json": {
       "model_id": "",
       "version_major": 2,
       "version_minor": 0
      },
      "text/plain": [
       "FloatProgress(value=0.0, bar_style='info', description='Progress:', layout=Layout(height='25px', width='50%'),…"
      ]
     },
     "metadata": {},
     "output_type": "display_data"
    }
   ],
   "source": [
    "#Drop unneeded date columns\n",
    "rf_df = rf_df.drop(\"period_end\",\"parsed_end\")"
   ]
  },
  {
   "cell_type": "code",
   "execution_count": 93,
   "id": "056473cd",
   "metadata": {
    "scrolled": true
   },
   "outputs": [
    {
     "data": {
      "application/vnd.jupyter.widget-view+json": {
       "model_id": "",
       "version_major": 2,
       "version_minor": 0
      },
      "text/plain": [
       "FloatProgress(value=0.0, bar_style='info', description='Progress:', layout=Layout(height='25px', width='50%'),…"
      ]
     },
     "metadata": {},
     "output_type": "display_data"
    }
   ],
   "source": [
    "#Group by state, year, aggregate median sale and list price\n",
    "grouped_by_state = (\n",
    "    rf_df.groupBy(\"state_code\",\"year\")\n",
    "    .agg(avg(\"median_sale_price\").alias(\"avg_median_sale\"),\n",
    "        avg(\"median_list_price\").alias(\"avg_median_list\")\n",
    "    .orderBy((\"state_code\"),(\"year\"))\n",
    "    .filter(col(\"year\") > \"2022\"))"
   ]
  },
  {
   "cell_type": "code",
   "execution_count": 98,
   "id": "4e583ed3",
   "metadata": {
    "scrolled": true
   },
   "outputs": [
    {
     "data": {
      "application/vnd.jupyter.widget-view+json": {
       "model_id": "",
       "version_major": 2,
       "version_minor": 0
      },
      "text/plain": [
       "FloatProgress(value=0.0, bar_style='info', description='Progress:', layout=Layout(height='25px', width='50%'),…"
      ]
     },
     "metadata": {},
     "output_type": "display_data"
    }
   ],
   "source": [
    "grouped_by_state = grouped_by_state.withColumn(\"avg_diff\", col(\"avg_median_sale\") - col(\"avg_median_list\"))"
   ]
  },
  {
   "cell_type": "code",
   "execution_count": 101,
   "id": "89fa82ca",
   "metadata": {
    "scrolled": true
   },
   "outputs": [
    {
     "data": {
      "application/vnd.jupyter.widget-view+json": {
       "model_id": "",
       "version_major": 2,
       "version_minor": 0
      },
      "text/plain": [
       "FloatProgress(value=0.0, bar_style='info', description='Progress:', layout=Layout(height='25px', width='50%'),…"
      ]
     },
     "metadata": {},
     "output_type": "display_data"
    },
    {
     "name": "stdout",
     "output_type": "stream",
     "text": [
      "+----------+----+------------------+------------------+------------------+\n",
      "|state_code|year|   avg_median_sale|   avg_median_list|          avg_diff|\n",
      "+----------+----+------------------+------------------+------------------+\n",
      "|        CO|2023| 756466.0459969474| 735015.7816880406| 21450.26430890686|\n",
      "|        CO|2024| 778642.3273206605| 748402.3110195674| 30240.01630109304|\n",
      "|        CO|2025| 785511.0419508867| 768311.8050554016|17199.236895485083|\n",
      "|        CT|2023|  654396.900865113| 601351.6179937952| 53045.28287131782|\n",
      "|        CT|2024| 638235.5990566037| 628795.9568158168| 9439.642240786925|\n",
      "|        DC|2023|        759530.275| 639512.4166666666| 120017.8583333334|\n",
      "|        DC|2024| 768338.1083333333| 627062.4166666666|141275.69166666665|\n",
      "|        DC|2025|          813661.8|          661389.9|152271.90000000002|\n",
      "|        HI|2024| 1096955.230442426|1032818.2059026579|   64137.024539768|\n",
      "|        HI|2025|1063005.5293066476| 987196.4507989908| 75809.07850765681|\n",
      "|        NE|2025| 537441.9256055363| 286165.8102073365|251276.11539819982|\n",
      "|        RI|2023| 559795.7099661345| 551467.3362350381| 8328.373731096392|\n",
      "|        SD|2025| 887818.8862928349| 366761.6054852321| 521057.2808076028|\n",
      "+----------+----+------------------+------------------+------------------+"
     ]
    }
   ],
   "source": [
    "#Display states where sale price was higher than list price on average since 2022\n",
    "grouped_by_state.where(col(\"avg_diff\") > 0).show()"
   ]
  },
  {
   "cell_type": "code",
   "execution_count": null,
   "id": "48af8ae4",
   "metadata": {},
   "outputs": [
    {
     "data": {
      "application/vnd.jupyter.widget-view+json": {
       "model_id": "",
       "version_major": 2,
       "version_minor": 0
      },
      "text/plain": [
       "FloatProgress(value=0.0, bar_style='info', description='Progress:', layout=Layout(height='25px', width='50%'),…"
      ]
     },
     "metadata": {},
     "output_type": "display_data"
    }
   ],
   "source": [
    "#Save the dataframes to S3, include headers\n",
    "s3_output_csv = \"s3://<bucket>/output/grouped_by_state.csv\"\n",
    "s3_output_parquet = \"s3://<bucket>/output/rf_df.parquet\"\n",
    "grouped_by_state.write.mode(\"overwrite\").option(\"header\",True).csv(s3_output_csv)\n",
    "grouped_by_state.write.mode(\"overwrite\").option(\"header\",True).parquet(s3_output_parquet)"
   ]
  },
  {
   "cell_type": "code",
   "execution_count": null,
   "id": "850d324e",
   "metadata": {},
   "outputs": [],
   "source": []
  }
 ],
 "metadata": {
  "kernelspec": {
   "display_name": "PySpark",
   "language": "python",
   "name": "pysparkkernel"
  },
  "language_info": {
   "codemirror_mode": {
    "name": "python",
    "version": 3
   },
   "file_extension": ".py",
   "mimetype": "text/x-python",
   "name": "pyspark",
   "pygments_lexer": "python3"
  }
 },
 "nbformat": 4,
 "nbformat_minor": 5
}
